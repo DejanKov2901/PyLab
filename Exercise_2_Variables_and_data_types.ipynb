{
  "nbformat": 4,
  "nbformat_minor": 0,
  "metadata": {
    "colab": {
      "provenance": [],
      "toc_visible": true,
      "include_colab_link": true
    },
    "kernelspec": {
      "name": "python3",
      "display_name": "Python 3"
    },
    "language_info": {
      "name": "python"
    }
  },
  "cells": [
    {
      "cell_type": "markdown",
      "metadata": {
        "id": "view-in-github",
        "colab_type": "text"
      },
      "source": [
        "<a href=\"https://colab.research.google.com/github/DejanKov2901/PyLab/blob/main/Exercise_2_Variables_and_data_types.ipynb\" target=\"_parent\"><img src=\"https://colab.research.google.com/assets/colab-badge.svg\" alt=\"Open In Colab\"/></a>"
      ]
    },
    {
      "cell_type": "markdown",
      "source": [
        "\n",
        "\n",
        "# Variables and data types"
      ],
      "metadata": {
        "id": "8IAUMUq5_u5U"
      }
    },
    {
      "cell_type": "code",
      "source": [
        "# Exercise 1:\n",
        "# Create variables for your age, height, and name. Assign values with\n",
        "# suitable data types to them.\n",
        "# Finally, print them out.\n",
        "\n",
        "my_age = 12\n",
        "print(my_age)"
      ],
      "metadata": {
        "id": "3O3Y4ym_A8m1",
        "colab": {
          "base_uri": "https://localhost:8080/"
        },
        "outputId": "bd186346-7ffe-44d2-a9b2-51409af32ea6"
      },
      "execution_count": 1,
      "outputs": [
        {
          "output_type": "stream",
          "name": "stdout",
          "text": [
            "12\n"
          ]
        }
      ]
    },
    {
      "cell_type": "code",
      "source": [
        "# Exercise 2:\n",
        "# Calculate the area of a rectangle with length and width stored in variables.\n"
      ],
      "metadata": {
        "id": "DJ5JsalP1MME"
      },
      "execution_count": null,
      "outputs": []
    },
    {
      "cell_type": "code",
      "source": [
        "# Exercise 3:\n",
        "# Convert the temperature from Fahrenheit to Celsius using variables.\n"
      ],
      "metadata": {
        "id": "piDtWfN71Z90"
      },
      "execution_count": null,
      "outputs": []
    },
    {
      "cell_type": "code",
      "source": [
        "# Exercise 4:\n",
        "# Create a list of your favorite movies and print it.\n"
      ],
      "metadata": {
        "id": "ZgMlZAuJ1ktD"
      },
      "execution_count": null,
      "outputs": []
    },
    {
      "cell_type": "code",
      "source": [
        "# Exercise 5:\n",
        "# Create a tuple representing the coordinates of a point and print it.\n"
      ],
      "metadata": {
        "id": "jTSNDqc-1qb-"
      },
      "execution_count": null,
      "outputs": []
    },
    {
      "cell_type": "code",
      "source": [
        "# Exercise 6:\n",
        "# Create a dictionary with information about a person and print it.\n"
      ],
      "metadata": {
        "id": "YytHroGh1sw6"
      },
      "execution_count": null,
      "outputs": []
    },
    {
      "cell_type": "code",
      "source": [
        "# Advanced Exercise:\n",
        "# Take user input for their age and print a message saying whether they are a teenager or not."
      ],
      "metadata": {
        "id": "wIHExGWs15sy"
      },
      "execution_count": null,
      "outputs": []
    }
  ]
}