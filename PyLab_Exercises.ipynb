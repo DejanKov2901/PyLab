{
  "nbformat": 4,
  "nbformat_minor": 0,
  "metadata": {
    "colab": {
      "provenance": [],
      "toc_visible": true,
      "authorship_tag": "ABX9TyMBkucSWc/Cb4k7VobG0/OO",
      "include_colab_link": true
    },
    "kernelspec": {
      "name": "python3",
      "display_name": "Python 3"
    },
    "language_info": {
      "name": "python"
    }
  },
  "cells": [
    {
      "cell_type": "markdown",
      "metadata": {
        "id": "view-in-github",
        "colab_type": "text"
      },
      "source": [
        "<a href=\"https://colab.research.google.com/github/DejanKov2901/PyLab/blob/main/PyLab_Exercises.ipynb\" target=\"_parent\"><img src=\"https://colab.research.google.com/assets/colab-badge.svg\" alt=\"Open In Colab\"/></a>"
      ]
    },
    {
      "cell_type": "markdown",
      "source": [
        "# Hello, World!"
      ],
      "metadata": {
        "id": "qtPqhPNA_3BI"
      }
    },
    {
      "cell_type": "code",
      "source": [
        "# Exercise 1:\n",
        "# print out \"Hello, World!\" to the console!\n"
      ],
      "metadata": {
        "id": "hd2WfWC7__wh"
      },
      "execution_count": null,
      "outputs": []
    },
    {
      "cell_type": "code",
      "source": [
        "# Exercise 2:\n",
        "# print out anything else to the console, for example your name\n"
      ],
      "metadata": {
        "id": "oVbXtpD-BTWB"
      },
      "execution_count": null,
      "outputs": []
    },
    {
      "cell_type": "markdown",
      "source": [
        "\n",
        "\n",
        "# Variables and data types"
      ],
      "metadata": {
        "id": "8IAUMUq5_u5U"
      }
    },
    {
      "cell_type": "code",
      "source": [
        "# Exercise 1:\n",
        "# Create variables for your age, height, and name. Print them out.\n"
      ],
      "metadata": {
        "id": "3O3Y4ym_A8m1"
      },
      "execution_count": null,
      "outputs": []
    },
    {
      "cell_type": "code",
      "source": [
        "# Exercise 2:\n",
        "# Calculate the area of a rectangle with length and width stored in variables.\n"
      ],
      "metadata": {
        "id": "DJ5JsalP1MME"
      },
      "execution_count": null,
      "outputs": []
    },
    {
      "cell_type": "code",
      "source": [
        "# Exercise 3:\n",
        "# Convert the temperature from Fahrenheit to Celsius using variables.\n"
      ],
      "metadata": {
        "id": "piDtWfN71Z90"
      },
      "execution_count": null,
      "outputs": []
    },
    {
      "cell_type": "code",
      "source": [
        "# Exercise 4:\n",
        "# Create a list of your favorite movies and print it.\n"
      ],
      "metadata": {
        "id": "ZgMlZAuJ1ktD"
      },
      "execution_count": null,
      "outputs": []
    },
    {
      "cell_type": "code",
      "source": [
        "# Exercise 5:\n",
        "# Create a tuple representing the coordinates of a point and print it.\n"
      ],
      "metadata": {
        "id": "jTSNDqc-1qb-"
      },
      "execution_count": null,
      "outputs": []
    },
    {
      "cell_type": "code",
      "source": [
        "# Exercise 6:\n",
        "# Create a dictionary with information about a person and print it.\n"
      ],
      "metadata": {
        "id": "YytHroGh1sw6"
      },
      "execution_count": null,
      "outputs": []
    },
    {
      "cell_type": "code",
      "source": [
        "# Advanced Exercise:\n",
        "# Take user input for their age and print a message saying whether they are a teenager or not."
      ],
      "metadata": {
        "id": "wIHExGWs15sy"
      },
      "execution_count": null,
      "outputs": []
    }
  ]
}