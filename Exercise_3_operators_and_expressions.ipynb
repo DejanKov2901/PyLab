{
  "nbformat": 4,
  "nbformat_minor": 0,
  "metadata": {
    "colab": {
      "provenance": [],
      "authorship_tag": "ABX9TyMDZ3voJHocemArCXZBcSsX",
      "include_colab_link": true
    },
    "kernelspec": {
      "name": "python3",
      "display_name": "Python 3"
    },
    "language_info": {
      "name": "python"
    }
  },
  "cells": [
    {
      "cell_type": "markdown",
      "metadata": {
        "id": "view-in-github",
        "colab_type": "text"
      },
      "source": [
        "<a href=\"https://colab.research.google.com/github/DejanKov2901/PyLab/blob/main/Exercise_3_operators_and_expressions.ipynb\" target=\"_parent\"><img src=\"https://colab.research.google.com/assets/colab-badge.svg\" alt=\"Open In Colab\"/></a>"
      ]
    },
    {
      "cell_type": "markdown",
      "source": [
        "# Operators"
      ],
      "metadata": {
        "id": "-ZGJrQFcr41-"
      }
    },
    {
      "cell_type": "markdown",
      "source": [
        "## Arithmetic operators"
      ],
      "metadata": {
        "id": "HhL2zEWkwp5P"
      }
    },
    {
      "cell_type": "code",
      "execution_count": null,
      "metadata": {
        "id": "JK8fYxAjrJTV"
      },
      "outputs": [],
      "source": [
        "# Calculate the area of a rectangle\n"
      ]
    },
    {
      "cell_type": "code",
      "source": [
        "# advanced: Create a program that calculates the area of a rectangle.\n",
        "# Ask the user for the length and width, then output the calculated area.\n",
        "# Use the input() function\n"
      ],
      "metadata": {
        "colab": {
          "base_uri": "https://localhost:8080/"
        },
        "id": "xrKygTNqw7-M",
        "outputId": "5b492488-02b1-4a97-bb1d-f99523d82264"
      },
      "execution_count": null,
      "outputs": [
        {
          "name": "stdout",
          "output_type": "stream",
          "text": [
            "3\n"
          ]
        }
      ]
    },
    {
      "cell_type": "markdown",
      "source": [
        "## comparison operators"
      ],
      "metadata": {
        "id": "uTWHZ91GxV87"
      }
    },
    {
      "cell_type": "code",
      "source": [
        "# Write a script that compares two numbers and prints whether they are equal,\n",
        "# not equal, greater than, or less than each other.\n"
      ],
      "metadata": {
        "id": "crxYGWKPxZxO"
      },
      "execution_count": null,
      "outputs": []
    },
    {
      "cell_type": "code",
      "source": [
        "# Create a program that checks if a given year is a leap year. Output the result.\n"
      ],
      "metadata": {
        "id": "spcPF2LOxeRc"
      },
      "execution_count": null,
      "outputs": []
    },
    {
      "cell_type": "markdown",
      "source": [
        "## Logical operators"
      ],
      "metadata": {
        "id": "Gx5DR9aQxhIi"
      }
    },
    {
      "cell_type": "code",
      "source": [
        "# Implement a script that checks if a number is both greater than 10 and less\n",
        "# than 20. Print the result.\n"
      ],
      "metadata": {
        "id": "mD2Imamdxixe"
      },
      "execution_count": null,
      "outputs": []
    },
    {
      "cell_type": "code",
      "source": [
        "# advanced: Write a program that checks if a user-inputted number is either even\n",
        "# or a multiple of 5. Output the result.\n"
      ],
      "metadata": {
        "id": "c1Ob_BbGxneR"
      },
      "execution_count": null,
      "outputs": []
    },
    {
      "cell_type": "markdown",
      "source": [
        "## identity operators"
      ],
      "metadata": {
        "id": "xeYfHh4LxtQ1"
      }
    },
    {
      "cell_type": "code",
      "source": [
        "# Create a script that compares two lists and prints whether they are identical\n",
        "# or not.\n"
      ],
      "metadata": {
        "id": "ImI72UZGxuti"
      },
      "execution_count": null,
      "outputs": []
    },
    {
      "cell_type": "markdown",
      "source": [
        "## Membership operators"
      ],
      "metadata": {
        "id": "H_wM955bxyTe"
      }
    },
    {
      "cell_type": "code",
      "source": [
        "# Write a program that checks if a specific element is present in a given list.\n",
        "# Print the result.\n"
      ],
      "metadata": {
        "id": "iZ9we_f4xz8b"
      },
      "execution_count": null,
      "outputs": []
    },
    {
      "cell_type": "markdown",
      "source": [
        "## assignment operators"
      ],
      "metadata": {
        "id": "b8U55NWAzoBA"
      }
    },
    {
      "cell_type": "code",
      "source": [],
      "metadata": {
        "id": "u_t0PPlPztm0"
      },
      "execution_count": null,
      "outputs": []
    },
    {
      "cell_type": "markdown",
      "source": [
        "# Expressions"
      ],
      "metadata": {
        "id": "sumWuWEyx203"
      }
    },
    {
      "cell_type": "markdown",
      "source": [
        "## arithmetic expressions"
      ],
      "metadata": {
        "id": "2BQIzrebyCpm"
      }
    },
    {
      "cell_type": "code",
      "source": [
        "# Combine different arithmetic operators. For example, use all the operators\n",
        "# from the video to create one expression\n"
      ],
      "metadata": {
        "id": "M-Y-08hcx4Mk"
      },
      "execution_count": null,
      "outputs": []
    },
    {
      "cell_type": "markdown",
      "source": [
        "## logical expressions"
      ],
      "metadata": {
        "id": "GgfSHNNOyPEa"
      }
    },
    {
      "cell_type": "code",
      "source": [
        "# Implement a program that checks if a student has passed or failed based on two conditions:\n",
        "# score greater than or equal to 50 and attendance greater than 75%.\n"
      ],
      "metadata": {
        "id": "FEsQrn0ZyQpZ"
      },
      "execution_count": null,
      "outputs": []
    },
    {
      "cell_type": "markdown",
      "source": [
        "## mixing operators"
      ],
      "metadata": {
        "id": "jO5Mfca0yYj5"
      }
    },
    {
      "cell_type": "code",
      "source": [
        "# Write a Python script that takes three numbers as input and calculates the\n",
        "# average. Output whether the average is even or odd.\n"
      ],
      "metadata": {
        "id": "Xyu2c6F2yZ4z"
      },
      "execution_count": null,
      "outputs": []
    }
  ]
}