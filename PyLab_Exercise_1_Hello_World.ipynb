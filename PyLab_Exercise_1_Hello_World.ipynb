{
  "nbformat": 4,
  "nbformat_minor": 0,
  "metadata": {
    "colab": {
      "provenance": [],
      "toc_visible": true,
      "authorship_tag": "ABX9TyMBkucSWc/Cb4k7VobG0/OO",
      "include_colab_link": true
    },
    "kernelspec": {
      "name": "python3",
      "display_name": "Python 3"
    },
    "language_info": {
      "name": "python"
    }
  },
  "cells": [
    {
      "cell_type": "markdown",
      "metadata": {
        "id": "view-in-github",
        "colab_type": "text"
      },
      "source": [
        "<a href=\"https://colab.research.google.com/github/DejanKov2901/PyLab/blob/main/PyLab_Exercises.ipynb\" target=\"_parent\"><img src=\"https://colab.research.google.com/assets/colab-badge.svg\" alt=\"Open In Colab\"/></a>"
      ]
    },
    {
      "cell_type": "markdown",
      "source": [
        "# Hello, World!"
      ],
      "metadata": {
        "id": "qtPqhPNA_3BI"
      }
    },
    {
      "cell_type": "code",
      "source": [
        "# Exercise 1:\n",
        "# print out \"Hello, World!\" to the console!\n"
      ],
      "metadata": {
        "id": "hd2WfWC7__wh"
      },
      "execution_count": null,
      "outputs": []
    },
    {
      "cell_type": "code",
      "source": [
        "# Exercise 2:\n",
        "# print out anything else to the console, for example your name\n"
      ],
      "metadata": {
        "id": "oVbXtpD-BTWB"
      },
      "execution_count": null,
      "outputs": []
    }
    
