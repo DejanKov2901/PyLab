{
  "nbformat": 4,
  "nbformat_minor": 0,
  "metadata": {
    "colab": {
      "provenance": [],
      "authorship_tag": "ABX9TyMy8LO/m8sEc2vCMx46FNRN",
      "include_colab_link": true
    },
    "kernelspec": {
      "name": "python3",
      "display_name": "Python 3"
    },
    "language_info": {
      "name": "python"
    }
  },
  "cells": [
    {
      "cell_type": "markdown",
      "metadata": {
        "id": "view-in-github",
        "colab_type": "text"
      },
      "source": [
        "<a href=\"https://colab.research.google.com/github/DejanKov2901/PyLab/blob/main/Exercise_5_loops.ipynb\" target=\"_parent\"><img src=\"https://colab.research.google.com/assets/colab-badge.svg\" alt=\"Open In Colab\"/></a>"
      ]
    },
    {
      "cell_type": "code",
      "execution_count": null,
      "metadata": {
        "id": "ixS2Zqs3faE1"
      },
      "outputs": [],
      "source": [
        "# Exercise 1: While Loop\n",
        "# Write a while loop that prints numbers from 1 to 5.\n"
      ]
    },
    {
      "cell_type": "code",
      "source": [
        "# Exercise 2: For Loop with Range\n",
        "# Use a for loop and the range function to print even numbers from 2 to 10.\n"
      ],
      "metadata": {
        "id": "LsqwZssCfhlB"
      },
      "execution_count": null,
      "outputs": []
    },
    {
      "cell_type": "code",
      "source": [
        "# Exercise 3: Continue Statement\n",
        "# Modify the previous for loop to skip the iteration when the number is 6.\n"
      ],
      "metadata": {
        "id": "bEhZs2Wbfk98"
      },
      "execution_count": null,
      "outputs": []
    },
    {
      "cell_type": "code",
      "source": [
        "# Exercise 4: Break Statement\n",
        "# Write a while loop that counts down from 5 to 1. Use a break statement to exit\n",
        "# the loop when the count reaches 3.\n"
      ],
      "metadata": {
        "id": "EKM4GWQIfn2W"
      },
      "execution_count": null,
      "outputs": []
    },
    {
      "cell_type": "code",
      "source": [
        "# Advanced: Exercise 5: Nested For Loops\n",
        "# Create a nested for loop to print the following pattern:\n",
        "# 1\n",
        "# 22\n",
        "# 333\n",
        "# 4444\n"
      ],
      "metadata": {
        "id": "ML6abXnLfrP-"
      },
      "execution_count": null,
      "outputs": []
    },
    {
      "cell_type": "code",
      "source": [
        "# Exercise 6: Looping Through a String\n",
        "# Use a for loop to iterate through the characters of the string \"Python\" and\n",
        "# print each character.\n"
      ],
      "metadata": {
        "id": "7Xzy-X2Vf1zB"
      },
      "execution_count": null,
      "outputs": []
    },
    {
      "cell_type": "code",
      "source": [
        "# Exercise 7: Using Range for Increment\n",
        "# Write a for loop using the range function to print numbers from 10 to 20 in\n",
        "# increments of 2.\n"
      ],
      "metadata": {
        "id": "EKxXAHPif5xL"
      },
      "execution_count": null,
      "outputs": []
    }
  ]
}