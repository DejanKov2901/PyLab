{
  "nbformat": 4,
  "nbformat_minor": 0,
  "metadata": {
    "colab": {
      "provenance": [],
      "authorship_tag": "ABX9TyOanffJw+QvUu9uFJWe12xX",
      "include_colab_link": true
    },
    "kernelspec": {
      "name": "python3",
      "display_name": "Python 3"
    },
    "language_info": {
      "name": "python"
    }
  },
  "cells": [
    {
      "cell_type": "markdown",
      "metadata": {
        "id": "view-in-github",
        "colab_type": "text"
      },
      "source": [
        "<a href=\"https://colab.research.google.com/github/DejanKov2901/PyLab/blob/main/Exercise_4_if_elif_else.ipynb\" target=\"_parent\"><img src=\"https://colab.research.google.com/assets/colab-badge.svg\" alt=\"Open In Colab\"/></a>"
      ]
    },
    {
      "cell_type": "code",
      "execution_count": null,
      "metadata": {
        "id": "X13tTFSGv8yE"
      },
      "outputs": [],
      "source": [
        "# Exercise 1:\n",
        "# Write a Python program that defines a variable number and prints whether it's\n",
        "# positive, negative, or zero.\n"
      ]
    },
    {
      "cell_type": "code",
      "source": [
        "# Exercise 2:\n",
        "# Create a program that defines a variable age. If the age is below 18, print\n",
        "# \"You are a minor.\" If it's between 18 and 65, print \"You are an adult.\"\n",
        "# Otherwise, print \"You are a senior.\"\n"
      ],
      "metadata": {
        "id": "bQVPt8pXwJQp"
      },
      "execution_count": null,
      "outputs": []
    },
    {
      "cell_type": "code",
      "source": [
        "# Exercise 3:\n",
        "# Write a program that checks if a given year (define a variable year) is a leap\n",
        "# year. A leap year is divisible by 4, but not by 100 unless it is divisible by 400.\n"
      ],
      "metadata": {
        "id": "cec9WAPNwPP_"
      },
      "execution_count": null,
      "outputs": []
    },
    {
      "cell_type": "code",
      "source": [
        "# Exercise 4:\n",
        "# Create a simple calculator program that defines variables num1, num2, and\n",
        "# operator. Use if, elif, and else statements to perform the corresponding operation\n",
        "# and print the result.\n"
      ],
      "metadata": {
        "id": "F-rkuhWQwS5l"
      },
      "execution_count": null,
      "outputs": []
    },
    {
      "cell_type": "code",
      "source": [
        "# Exercise 5:\n",
        "# Define a variable day_of_week. If it's a weekday (Monday to Friday), print\n",
        "# \"It's a workday.\" If it's Saturday or Sunday, print \"It's the weekend.\"\n"
      ],
      "metadata": {
        "id": "dmkqgRK4wXqx"
      },
      "execution_count": null,
      "outputs": []
    },
    {
      "cell_type": "code",
      "source": [
        "# Exercise 6:\n",
        "# Write a program that checks if a given number (define a variable number) is\n",
        "# even or odd. Print the result accordingly.\n"
      ],
      "metadata": {
        "id": "v6ydlYHAwbI7"
      },
      "execution_count": null,
      "outputs": []
    },
    {
      "cell_type": "code",
      "source": [
        "# Exercise 7:\n",
        "# Create a program that determines the type of a triangle based on its three side\n",
        "# lengths. Define variables side1, side2, and side3. Print \"Equilateral,\"\n",
        "# \"Isosceles,\" or \"Scalene\" accordingly.\n"
      ],
      "metadata": {
        "id": "nU_MgbilwecY"
      },
      "execution_count": null,
      "outputs": []
    },
    {
      "cell_type": "code",
      "source": [
        "# Exercise 8:\n",
        "# Define a variable password. If the password is \"Python123,\" print \"Access granted.\"\n",
        "# Otherwise, print \"Access denied.\"\n"
      ],
      "metadata": {
        "id": "gxyJqI-2wj_3"
      },
      "execution_count": null,
      "outputs": []
    },
    {
      "cell_type": "code",
      "source": [
        "# Exercise 9:\n",
        "# Write a program that defines a variable month and prints the number of days in\n",
        "# that month. Consider leap years for February.\n"
      ],
      "metadata": {
        "id": "6o9adI9qwoGF"
      },
      "execution_count": null,
      "outputs": []
    },
    {
      "cell_type": "code",
      "source": [
        "# Exercise 10:\n",
        "# Define a variable year. Create a program that checks if the given year is a\n",
        "# century year (divisible by 100). If it is, print \"It's a century year.\"\n",
        "# Otherwise, print \"It's not a century year.\"\n"
      ],
      "metadata": {
        "id": "QmMnp7m9wsRj"
      },
      "execution_count": null,
      "outputs": []
    }
  ]
}